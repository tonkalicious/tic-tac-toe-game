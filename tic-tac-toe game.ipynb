{
 "cells": [
  {
   "cell_type": "code",
   "execution_count": 10,
   "metadata": {},
   "outputs": [],
   "source": [
    "import random"
   ]
  },
  {
   "cell_type": "code",
   "execution_count": 11,
   "metadata": {},
   "outputs": [],
   "source": [
    "#---Global variables---\n",
    "\n",
    "board = [\"-\",\"-\",\"-\",\n",
    "         \"-\",\"-\",\"-\",\n",
    "         \"-\",\"-\",\"-\"]\n",
    "\n",
    "#if game is still going\n",
    "game_is_still_going = True #We want the game to start initially by default. When game is over; game_is_still_going = False\n",
    "\n",
    "#is it a tie?\n",
    "winner = None\n",
    "\n",
    "#whose turn is it?\n",
    "current_player = \"X\"\n"
   ]
  },
  {
   "cell_type": "code",
   "execution_count": null,
   "metadata": {},
   "outputs": [],
   "source": []
  },
  {
   "cell_type": "code",
   "execution_count": 12,
   "metadata": {},
   "outputs": [],
   "source": [
    "def display_board():\n",
    "    print(\"\\n\")\n",
    "    print(board[0]+ \"|\" + board[1]+ \"|\" + board[2]  + \"       1 | 2 | 3 \")\n",
    "    print(board[3]+ \"|\" + board[4]+ \"|\" + board[5]  + \"       4 | 5 | 6 \")\n",
    "    print(board[6]+ \"|\" + board[7]+ \"|\" + board[8]  + \"       7 | 8 | 9 \")\n",
    "    print(\"\\n\")"
   ]
  },
  {
   "cell_type": "code",
   "execution_count": null,
   "metadata": {},
   "outputs": [],
   "source": []
  },
  {
   "cell_type": "code",
   "execution_count": 13,
   "metadata": {},
   "outputs": [],
   "source": [
    "#play a game\n",
    "def play_game():\n",
    "    display_board()\n",
    "    \n",
    "    while game_is_still_going:\n",
    "        \n",
    "        #handle a sinle turn of an arbitrary player\n",
    "        handle_turn(current_player)\n",
    "        \n",
    "        #check if the game has ended\n",
    "        check_if_game_is_over()\n",
    "        \n",
    "        #flip to the other player\n",
    "        flip_player()\n",
    "        \n",
    "    #The game has ended    \n",
    "    if winner == \"X\" or winner == \"O\":\n",
    "        print(winner + \" won.\")\n",
    "    elif winner == None: \n",
    "        print(\"It's a tie.\")"
   ]
  },
  {
   "cell_type": "code",
   "execution_count": 14,
   "metadata": {},
   "outputs": [],
   "source": [
    "def handle_turn(player):\n",
    "    \n",
    "    print(player + \"'s turn.\")\n",
    "    position = input(\"Choose a position from 1 to 9: \")\n",
    "    \n",
    "    valid = False\n",
    "    while not valid:\n",
    "    \n",
    "        while position not in [\"1\",\"2\",\"3\",\"4\",\"5\",\"6\",\"7\",\"8\",\"9\"]:\n",
    "            position = input(\"Choose a position from 1 to 9: \")\n",
    "        \n",
    "        position = int(position) -1\n",
    "            \n",
    "        if board[position] == \"-\":\n",
    "            valid = True\n",
    "        else:\n",
    "            print(\"You can't go there. Try another position:\")\n",
    "    \n",
    "    board[position] = player\n",
    "    \n",
    "    display_board()"
   ]
  },
  {
   "cell_type": "code",
   "execution_count": 15,
   "metadata": {},
   "outputs": [],
   "source": [
    "def check_if_game_is_over():\n",
    "    check_for_winner()\n",
    "    check_if_tie()"
   ]
  },
  {
   "cell_type": "code",
   "execution_count": 16,
   "metadata": {},
   "outputs": [],
   "source": [
    "def check_for_winner():\n",
    "    \n",
    "    #set up global variables\n",
    "    global winner\n",
    "    \n",
    "    #check rows\n",
    "    row_winner = check_rows()\n",
    "    \n",
    "    #check columns\n",
    "    column_winner = check_columns()\n",
    "    \n",
    "    #check diagonals\n",
    "    diagonal_winner = check_diagonals()\n",
    "    \n",
    "    if row_winner:\n",
    "        winner = row_winner\n",
    "    elif column_winner:\n",
    "        #there was a win\n",
    "        winner = column_winner\n",
    "    elif diagonal_winner:\n",
    "        #there was a win\n",
    "        winner = diagonal_winner\n",
    "    else:\n",
    "        #there was no win\n",
    "        winner = None"
   ]
  },
  {
   "cell_type": "code",
   "execution_count": 17,
   "metadata": {},
   "outputs": [],
   "source": [
    "def check_rows():\n",
    "    \n",
    "    #Set global variables\n",
    "    global game_is_still_going\n",
    "    \n",
    "    #check if any of the rows have all the same value and it's not an empy value\n",
    "    row_1 = board[0] == board[1] == board[2] != \"-\"\n",
    "    row_2 = board[3] == board[4] == board[5] != \"-\"\n",
    "    row_3 = board[6] == board[7] == board[8] != \"-\"\n",
    "    \n",
    "    #If any row does have a match, flag that there is a win\n",
    "    if row_1 or row_2 or row_3:\n",
    "        game_is_still_going = False\n",
    "    \n",
    "    #return the winner (X or O)\n",
    "    if row_1:\n",
    "        return board[0]\n",
    "    elif row_2:\n",
    "        return board[3]\n",
    "    elif row_3:\n",
    "        return board[6]\n",
    "    else:\n",
    "        return None"
   ]
  },
  {
   "cell_type": "code",
   "execution_count": 18,
   "metadata": {},
   "outputs": [],
   "source": [
    "def check_columns():\n",
    "    \n",
    "    #Set global variables\n",
    "    global game_is_still_going\n",
    "    \n",
    "    #check if any of the columns have all the same value and it's not an empy value\n",
    "    column_1 = board[0] == board[3] == board[6] != \"-\"\n",
    "    column_2 = board[1] == board[4] == board[7] != \"-\"\n",
    "    column_3 = board[2] == board[5] == board[8] != \"-\"\n",
    "    \n",
    "    #If any column does have a match, flag that there is a win\n",
    "    if column_1 or column_2 or column_3:\n",
    "        game_is_still_going = False\n",
    "    \n",
    "    #return the winner (X or O)\n",
    "    if column_1:\n",
    "        return board[0]\n",
    "    elif column_2:\n",
    "        return board[1]\n",
    "    elif column_3:\n",
    "        return board[2]\n",
    "    else:\n",
    "        return None"
   ]
  },
  {
   "cell_type": "code",
   "execution_count": 19,
   "metadata": {},
   "outputs": [],
   "source": [
    "def check_diagonals():\n",
    "    \n",
    "    #Set global variables\n",
    "    global game_is_still_going\n",
    "    \n",
    "    #check if any of the diagonals have all the same value and it's not an empy value\n",
    "    diagonal_1 = board[0] == board[4] == board[8] != \"-\"\n",
    "    diagonal_2 = board[2] == board[4] == board[6] != \"-\"\n",
    "    \n",
    "    #If any diagonals does have a match, flag that there is a win\n",
    "    if diagonal_1 or diagonal_2:\n",
    "        game_is_still_going = False\n",
    "    \n",
    "    #return the winner (X or O)\n",
    "    if diagonal_1:\n",
    "        return board[0]\n",
    "    elif diagonal_2:\n",
    "        return board[2]\n",
    "    else:\n",
    "        return None"
   ]
  },
  {
   "cell_type": "code",
   "execution_count": 20,
   "metadata": {},
   "outputs": [],
   "source": [
    "def check_if_tie():\n",
    "    \n",
    "    global game_is_still_going\n",
    "    \n",
    "    if \"-\" not in board:\n",
    "        game_is_still_going = False\n",
    "        return True\n",
    "    else:\n",
    "        return False"
   ]
  },
  {
   "cell_type": "code",
   "execution_count": 21,
   "metadata": {},
   "outputs": [],
   "source": [
    "def  flip_player():\n",
    "    \n",
    "    global current_player\n",
    "    \n",
    "    if current_player == \"X\":\n",
    "        current_player = \"O\"\n",
    "    elif current_player == \"O\":\n",
    "        current_player = \"X\"\n",
    "    return"
   ]
  },
  {
   "cell_type": "code",
   "execution_count": 24,
   "metadata": {},
   "outputs": [
    {
     "name": "stdout",
     "output_type": "stream",
     "text": [
      "\n",
      "\n",
      "X|O|X       1 | 2 | 3 \n",
      "O|X|-       4 | 5 | 6 \n",
      "X|-|O       7 | 8 | 9 \n",
      "\n",
      "\n",
      "X won.\n"
     ]
    }
   ],
   "source": [
    "#----Run the game----\n",
    "play_game()"
   ]
  },
  {
   "cell_type": "code",
   "execution_count": null,
   "metadata": {},
   "outputs": [],
   "source": []
  },
  {
   "cell_type": "code",
   "execution_count": null,
   "metadata": {},
   "outputs": [],
   "source": []
  }
 ],
 "metadata": {
  "kernelspec": {
   "display_name": "Python 3",
   "language": "python",
   "name": "python3"
  },
  "language_info": {
   "codemirror_mode": {
    "name": "ipython",
    "version": 3
   },
   "file_extension": ".py",
   "mimetype": "text/x-python",
   "name": "python",
   "nbconvert_exporter": "python",
   "pygments_lexer": "ipython3",
   "version": "3.8.5"
  }
 },
 "nbformat": 4,
 "nbformat_minor": 4
}
